{
 "cells": [
  {
   "cell_type": "code",
   "execution_count": 1,
   "id": "39ff53e3",
   "metadata": {
    "execution": {
     "iopub.execute_input": "2024-05-31T05:42:42.016122Z",
     "iopub.status.busy": "2024-05-31T05:42:42.016122Z",
     "iopub.status.idle": "2024-05-31T05:42:42.019357Z",
     "shell.execute_reply": "2024-05-31T05:42:42.019357Z"
    },
    "papermill": {
     "duration": 0.0082,
     "end_time": "2024-05-31T05:42:42.021356",
     "exception": false,
     "start_time": "2024-05-31T05:42:42.013156",
     "status": "completed"
    },
    "tags": [
     "injected-parameters"
    ]
   },
   "outputs": [],
   "source": [
    "# Parameters\n",
    "data_path = \"../Master Datasets/Hashed and etc/new_reviews_to_process.csv\"\n"
   ]
  },
  {
   "cell_type": "code",
   "execution_count": null,
   "id": "5bd4206b-74ff-450c-b45d-c17048316799",
   "metadata": {
    "papermill": {
     "duration": 0.00199,
     "end_time": "2024-05-31T05:42:42.025357",
     "exception": false,
     "start_time": "2024-05-31T05:42:42.023367",
     "status": "completed"
    },
    "tags": []
   },
   "outputs": [],
   "source": []
  }
 ],
 "metadata": {
  "kernelspec": {
   "display_name": "Python 3 (ipykernel)",
   "language": "python",
   "name": "python3"
  },
  "language_info": {
   "codemirror_mode": {
    "name": "ipython",
    "version": 3
   },
   "file_extension": ".py",
   "mimetype": "text/x-python",
   "name": "python",
   "nbconvert_exporter": "python",
   "pygments_lexer": "ipython3",
   "version": "3.12.3"
  },
  "papermill": {
   "default_parameters": {},
   "duration": 1.428863,
   "end_time": "2024-05-31T05:42:42.156451",
   "environment_variables": {},
   "exception": null,
   "input_path": "Module01_Review_Basic_Preprocessing.ipynb",
   "output_path": "Module01_Review_Basic_Preprocessing_Output.ipynb",
   "parameters": {
    "data_path": "../Master Datasets/Hashed and etc/new_reviews_to_process.csv"
   },
   "start_time": "2024-05-31T05:42:40.727588",
   "version": "2.6.0"
  }
 },
 "nbformat": 4,
 "nbformat_minor": 5
}