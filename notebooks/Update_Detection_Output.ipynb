{
 "cells": [
  {
   "cell_type": "code",
   "execution_count": 1,
   "id": "abc6a885-3727-47a3-8366-c189e76cd5d3",
   "metadata": {
    "execution": {
     "iopub.execute_input": "2024-05-26T15:40:54.523913Z",
     "iopub.status.busy": "2024-05-26T15:40:54.522918Z",
     "iopub.status.idle": "2024-05-26T15:40:54.532273Z",
     "shell.execute_reply": "2024-05-26T15:40:54.530929Z"
    },
    "papermill": {
     "duration": 0.02248,
     "end_time": "2024-05-26T15:40:54.534322",
     "exception": false,
     "start_time": "2024-05-26T15:40:54.511842",
     "status": "completed"
    },
    "tags": []
   },
   "outputs": [],
   "source": [
    "# this NoteBook is for update detection for the Hotel Details Dataset using Jupyter Notebooks"
   ]
  },
  {
   "cell_type": "code",
   "execution_count": null,
   "id": "b148418c-fb74-4689-9d75-a2e5736c5fff",
   "metadata": {
    "papermill": {
     "duration": 0.004005,
     "end_time": "2024-05-26T15:40:54.544608",
     "exception": false,
     "start_time": "2024-05-26T15:40:54.540603",
     "status": "completed"
    },
    "tags": []
   },
   "outputs": [],
   "source": []
  },
  {
   "cell_type": "code",
   "execution_count": 2,
   "id": "b34a2624-e0f6-4e22-af50-dcb67430c3bc",
   "metadata": {
    "execution": {
     "iopub.execute_input": "2024-05-26T15:40:54.552602Z",
     "iopub.status.busy": "2024-05-26T15:40:54.552602Z",
     "iopub.status.idle": "2024-05-26T15:40:55.005542Z",
     "shell.execute_reply": "2024-05-26T15:40:55.005542Z"
    },
    "papermill": {
     "duration": 0.459977,
     "end_time": "2024-05-26T15:40:55.007581",
     "exception": false,
     "start_time": "2024-05-26T15:40:54.547604",
     "status": "completed"
    },
    "tags": []
   },
   "outputs": [],
   "source": [
    "# Import necessary libraries\n",
    "import pandas as pd\n",
    "import hashlib\n",
    "from datetime import datetime"
   ]
  },
  {
   "cell_type": "code",
   "execution_count": 3,
   "id": "2aa13f17-bb80-492a-97e0-824868c11fbd",
   "metadata": {
    "execution": {
     "iopub.execute_input": "2024-05-26T15:40:55.015551Z",
     "iopub.status.busy": "2024-05-26T15:40:55.015551Z",
     "iopub.status.idle": "2024-05-26T15:40:55.020869Z",
     "shell.execute_reply": "2024-05-26T15:40:55.020869Z"
    },
    "papermill": {
     "duration": 0.011329,
     "end_time": "2024-05-26T15:40:55.022881",
     "exception": false,
     "start_time": "2024-05-26T15:40:55.011552",
     "status": "completed"
    },
    "tags": []
   },
   "outputs": [],
   "source": [
    "\n",
    "\n",
    "# def load_data(filepath, input_template_path=None):\n",
    "#     try:\n",
    "#         # Try loading the existing data\n",
    "#         df = pd.read_csv(filepath, parse_dates=['last_updated'])\n",
    "#     except FileNotFoundError:\n",
    "#         print(f\"No file found at {filepath}. Initializing an empty DataFrame based on the template path.\")\n",
    "#         # If no file is found and a template path is provided, create a DataFrame with the same structure\n",
    "#         if input_template_path:\n",
    "#             # Load only headers from the input template\n",
    "#             temp_df = pd.read_csv(input_template_path, nrows=0)\n",
    "#             columns = temp_df.columns.tolist()  # Get all column names from the input dataset\n",
    "#         else:\n",
    "#             # Fallback to a default set of columns if no input template path is provided\n",
    "#             columns = ['hotel_id', 'name', 'location', 'description']  # Default columns if no template is available\n",
    "\n",
    "#         # Initialize an empty DataFrame with the structure derived from the input dataset\n",
    "#         df = pd.DataFrame(columns=columns)\n",
    "#         df['last_updated'] = pd.to_datetime(datetime.now())  # Ensure this column is added and set to now\n",
    "#         df['data_hash'] = pd.NA  # Initialize data_hash as missing\n",
    "        \n",
    "#     return df\n",
    "\n",
    "def load_data(filepath, input_template_path=None):\n",
    "    try:\n",
    "        df = pd.read_csv(filepath)\n",
    "        if 'last_updated' in df.columns:\n",
    "            df['last_updated'] = pd.to_datetime(df['last_updated'])\n",
    "        else:\n",
    "            df['last_updated'] = pd.to_datetime(datetime.now())\n",
    "    except FileNotFoundError:\n",
    "        print(f\"No file found at {filepath}. Initializing based on the input template.\")\n",
    "        if input_template_path:\n",
    "            temp_df = pd.read_csv(input_template_path, nrows=0)\n",
    "            df = pd.DataFrame(columns=temp_df.columns)\n",
    "        else:\n",
    "            df = pd.DataFrame(columns=['hotel_id', 'name', 'location', 'description'])\n",
    "        df['last_updated'] = pd.to_datetime(datetime.now())\n",
    "        df['data_hash'] = pd.NA\n",
    "    return df"
   ]
  },
  {
   "cell_type": "code",
   "execution_count": 4,
   "id": "689eee81-04e1-4bfc-a0fb-6ebda3d56770",
   "metadata": {
    "execution": {
     "iopub.execute_input": "2024-05-26T15:40:55.028948Z",
     "iopub.status.busy": "2024-05-26T15:40:55.028948Z",
     "iopub.status.idle": "2024-05-26T15:40:55.032577Z",
     "shell.execute_reply": "2024-05-26T15:40:55.032361Z"
    },
    "papermill": {
     "duration": 0.007688,
     "end_time": "2024-05-26T15:40:55.033616",
     "exception": false,
     "start_time": "2024-05-26T15:40:55.025928",
     "status": "completed"
    },
    "tags": []
   },
   "outputs": [],
   "source": [
    "# Function to generate hash\n",
    "def generate_hash(row):\n",
    "    hash_obj = hashlib.sha256()\n",
    "    concatenated_details = ''.join(str(row[col]) for col in row.index if col != 'last_updated')\n",
    "    hash_obj.update(concatenated_details.encode('utf-8'))\n",
    "    return hash_obj.hexdigest()\n"
   ]
  },
  {
   "cell_type": "code",
   "execution_count": 5,
   "id": "de30789c-8e46-4f68-8604-1495f43d12a4",
   "metadata": {
    "execution": {
     "iopub.execute_input": "2024-05-26T15:40:55.040642Z",
     "iopub.status.busy": "2024-05-26T15:40:55.040642Z",
     "iopub.status.idle": "2024-05-26T15:40:55.045326Z",
     "shell.execute_reply": "2024-05-26T15:40:55.044820Z"
    },
    "papermill": {
     "duration": 0.008766,
     "end_time": "2024-05-26T15:40:55.046366",
     "exception": false,
     "start_time": "2024-05-26T15:40:55.037600",
     "status": "completed"
    },
    "tags": []
   },
   "outputs": [],
   "source": [
    "# Function to apply hashes\n",
    "def apply_hashes(df):\n",
    "    df['data_hash'] = df.apply(generate_hash, axis=1)\n",
    "    df['last_updated'] = pd.to_datetime(datetime.now())\n",
    "    return df\n",
    "\n",
    "# def apply_hashes(df):\n",
    "#     def generate_hash(row):\n",
    "#         hash_obj = hashlib.sha256()\n",
    "#         concatenated_details = ''.join(str(row[col]) for col in sorted(row.index) if col != 'last_updated')\n",
    "#         hash_obj.update(concatenated_details.encode('utf-8'))\n",
    "#         return hash_obj.hexdigest()\n",
    "    \n",
    "#     df['data_hash'] = df.apply(generate_hash, axis=1)\n",
    "#     df['last_updated'] = pd.to_datetime(datetime.now())\n",
    "#     return df\n"
   ]
  },
  {
   "cell_type": "code",
   "execution_count": 6,
   "id": "ef28824c-e7d4-40eb-bb93-baef6986ec73",
   "metadata": {
    "execution": {
     "iopub.execute_input": "2024-05-26T15:40:55.053255Z",
     "iopub.status.busy": "2024-05-26T15:40:55.053255Z",
     "iopub.status.idle": "2024-05-26T15:40:55.056656Z",
     "shell.execute_reply": "2024-05-26T15:40:55.056656Z"
    },
    "papermill": {
     "duration": 0.009438,
     "end_time": "2024-05-26T15:40:55.058775",
     "exception": false,
     "start_time": "2024-05-26T15:40:55.049337",
     "status": "completed"
    },
    "tags": []
   },
   "outputs": [],
   "source": [
    "# Function to detect changes\n",
    "# def detect_changes(previous_df, current_df):\n",
    "#     combined_df = pd.merge(previous_df, current_df, on='hotel_id', suffixes=('_prev', '_curr'))\n",
    "#     changes = combined_df[(combined_df['data_hash_prev'] != combined_df['data_superseded']) | (combined_df['last_updated_prev'] < combined_df['last_updated_curr'])]\n",
    "#     return changes\n",
    "\n",
    "\n",
    "\n",
    "# def detect_changes(previous_df, current_df):\n",
    "#     combined_df = pd.merge(previous_df, current_df, on='hotel_id', how='outer', suffixes=('_prev', '_curr'))\n",
    "#     changes = combined_df[(combined_df['data_hash_prev'] != combined_df['data_hash_curr']) | \n",
    "#                           (combined_df['last_updated_prev'] < combined_df['last_inputd_curr'])]\n",
    "#     return changes\n",
    "\n",
    "# Function to detect changes and update\n",
    "def detect_changes(previous_df, current_df):\n",
    "    if not previous_df.empty:\n",
    "        combined_df = pd.merge(previous_df, current_df, on='hotel_id', how='outer', indicator=True)\n",
    "        changes_df = combined_df[combined_df['_merge'] != 'both']\n",
    "        return changes_df\n",
    "    return current_df"
   ]
  },
  {
   "cell_type": "code",
   "execution_count": 7,
   "id": "1fa0104e-9879-4826-a4a2-859a02970482",
   "metadata": {
    "execution": {
     "iopub.execute_input": "2024-05-26T15:40:55.064818Z",
     "iopub.status.busy": "2024-05-26T15:40:55.064818Z",
     "iopub.status.idle": "2024-05-26T15:40:55.067867Z",
     "shell.execute_reply": "2024-05-26T15:40:55.067867Z"
    },
    "papermill": {
     "duration": 0.009095,
     "end_time": "2024-05-26T15:40:55.069874",
     "exception": false,
     "start_time": "2024-05-26T15:40:55.060779",
     "status": "completed"
    },
    "tags": []
   },
   "outputs": [],
   "source": [
    "def save_changes(df, filepath):\n",
    "    df.to_csv(filepath, index=False)\n",
    "    print(f\"Data saved to {filepath}.\")"
   ]
  },
  {
   "cell_type": "code",
   "execution_count": 8,
   "id": "0d2e4f7f-279f-4846-ad29-5af3925e344c",
   "metadata": {
    "editable": true,
    "execution": {
     "iopub.execute_input": "2024-05-26T15:40:55.076226Z",
     "iopub.status.busy": "2024-05-26T15:40:55.076226Z",
     "iopub.status.idle": "2024-05-26T15:40:55.079748Z",
     "shell.execute_reply": "2024-05-26T15:40:55.079748Z"
    },
    "papermill": {
     "duration": 0.008536,
     "end_time": "2024-05-26T15:40:55.081756",
     "exception": false,
     "start_time": "2024-05-26T15:40:55.073220",
     "status": "completed"
    },
    "slideshow": {
     "slide_type": ""
    },
    "tags": [
     "parameters"
    ]
   },
   "outputs": [],
   "source": [
    "# parameters\n",
    "input_path = \"../Master Datasets/raw/hotel_detail_dataset_csv.csv\"\n",
    "output_path = \"../Master Datasets/Hashed and etc/hashed_timestamped_hotel_details.csv\""
   ]
  },
  {
   "cell_type": "code",
   "execution_count": 9,
   "id": "ccd8aa1b",
   "metadata": {
    "execution": {
     "iopub.execute_input": "2024-05-26T15:40:55.088753Z",
     "iopub.status.busy": "2024-05-26T15:40:55.088753Z",
     "iopub.status.idle": "2024-05-26T15:40:55.092040Z",
     "shell.execute_reply": "2024-05-26T15:40:55.091166Z"
    },
    "papermill": {
     "duration": 0.008318,
     "end_time": "2024-05-26T15:40:55.093078",
     "exception": false,
     "start_time": "2024-05-26T15:40:55.084760",
     "status": "completed"
    },
    "tags": [
     "injected-parameters"
    ]
   },
   "outputs": [],
   "source": [
    "# Parameters\n",
    "input_path = \"../Master Datasets/raw/hotel_detail_dataset_csv.csv\"\n",
    "output_path = \"../Master Datasets/Hashed and etc/hashed_timestamped_hotel_details.csv\"\n"
   ]
  },
  {
   "cell_type": "code",
   "execution_count": 10,
   "id": "0bcf80f7-5781-45e7-b4a6-9c755f800e10",
   "metadata": {
    "execution": {
     "iopub.execute_input": "2024-05-26T15:40:55.099047Z",
     "iopub.status.busy": "2024-05-26T15:40:55.099047Z",
     "iopub.status.idle": "2024-05-26T15:40:55.410075Z",
     "shell.execute_reply": "2024-05-26T15:40:55.410075Z"
    },
    "papermill": {
     "duration": 0.317027,
     "end_time": "2024-05-26T15:40:55.412105",
     "exception": false,
     "start_time": "2024-05-26T15:40:55.095078",
     "status": "completed"
    },
    "tags": []
   },
   "outputs": [
    {
     "name": "stdout",
     "output_type": "stream",
     "text": [
      "No file found at ../Master Datasets/Hashed and etc/hashed_timestamped_hotel_details.csv. Initializing based on the input template.\n",
      "Changes detected, updating the dataset.\n"
     ]
    },
    {
     "name": "stdout",
     "output_type": "stream",
     "text": [
      "Data saved to ../Master Datasets/Hashed and etc/hashed_timestamped_hotel_details.csv.\n"
     ]
    }
   ],
   "source": [
    "# Load previously stored data or initialize it\n",
    "previous_df = load_data(output_path, input_template_path=input_path)\n",
    "\n",
    "# Load current data and apply hashes\n",
    "current_df = load_data(input_path)\n",
    "current_df = apply_hashes(current_df)\n",
    "\n",
    "# Detect changes\n",
    "changes_df = detect_changes(previous_df, current_df)\n",
    "\n",
    "# Save the changes if any\n",
    "# Save the changes if any\n",
    "if not changes_df.empty:\n",
    "    print(\"Changes detected, updating the dataset.\")\n",
    "    save_changes(changes_df, output_path)\n",
    "else:\n",
    "    print(\"No changes detected.\")"
   ]
  },
  {
   "cell_type": "code",
   "execution_count": 11,
   "id": "038252a7-0bcb-4797-8225-034d1336027a",
   "metadata": {
    "execution": {
     "iopub.execute_input": "2024-05-26T15:40:55.421085Z",
     "iopub.status.busy": "2024-05-26T15:40:55.420103Z",
     "iopub.status.idle": "2024-05-26T15:40:55.423602Z",
     "shell.execute_reply": "2024-05-26T15:40:55.423602Z"
    },
    "papermill": {
     "duration": 0.010532,
     "end_time": "2024-05-26T15:40:55.425638",
     "exception": false,
     "start_time": "2024-05-26T15:40:55.415106",
     "status": "completed"
    },
    "tags": []
   },
   "outputs": [],
   "source": [
    "# if 'df1' in locals():\n",
    "#     del df1\n",
    "# if 'df2' in locals():\n",
    "#     del df2\n",
    "# if 'df' in locals():\n",
    "#     del df"
   ]
  },
  {
   "cell_type": "code",
   "execution_count": 12,
   "id": "2d658a82-0d85-4b50-9cfc-be89bc24b144",
   "metadata": {
    "execution": {
     "iopub.execute_input": "2024-05-26T15:40:55.433599Z",
     "iopub.status.busy": "2024-05-26T15:40:55.433599Z",
     "iopub.status.idle": "2024-05-26T15:40:55.436634Z",
     "shell.execute_reply": "2024-05-26T15:40:55.436634Z"
    },
    "papermill": {
     "duration": 0.008075,
     "end_time": "2024-05-26T15:40:55.437672",
     "exception": false,
     "start_time": "2024-05-26T15:40:55.429597",
     "status": "completed"
    },
    "tags": []
   },
   "outputs": [],
   "source": [
    "# : Define the Hash Function\n",
    "\n",
    "# As discussed, you’ll create a dynamic hash function that can adapt to changes in the data \n",
    "# structure, such as the addition of new columns. This function will hash all the relevant columns \n",
    "# except the last_updated column to avoid unnecessary updates due to timestamp changes alone."
   ]
  },
  {
   "cell_type": "code",
   "execution_count": 13,
   "id": "b6707281-a107-4247-a79b-555563b54c32",
   "metadata": {
    "execution": {
     "iopub.execute_input": "2024-05-26T15:40:55.445641Z",
     "iopub.status.busy": "2024-05-26T15:40:55.445641Z",
     "iopub.status.idle": "2024-05-26T15:40:55.447974Z",
     "shell.execute_reply": "2024-05-26T15:40:55.447974Z"
    },
    "papermill": {
     "duration": 0.007308,
     "end_time": "2024-05-26T15:40:55.449013",
     "exception": false,
     "start_time": "2024-05-26T15:40:55.441705",
     "status": "completed"
    },
    "tags": []
   },
   "outputs": [],
   "source": [
    "# Apply the Hash Function to the DataFrame\n",
    "\n",
    "# apply this hash function to each row in your DataFrame to create a hash column. This column will \n",
    "# represent the current state of each row based on its content."
   ]
  },
  {
   "cell_type": "code",
   "execution_count": null,
   "id": "a1968155-9fdc-4424-885a-0737d9dd4f5a",
   "metadata": {
    "papermill": {
     "duration": 0.003,
     "end_time": "2024-05-26T15:40:55.455982",
     "exception": false,
     "start_time": "2024-05-26T15:40:55.452982",
     "status": "completed"
    },
    "tags": []
   },
   "outputs": [],
   "source": []
  }
 ],
 "metadata": {
  "kernelspec": {
   "display_name": "Python 3 (ipykernel)",
   "language": "python",
   "name": "python3"
  },
  "language_info": {
   "codemirror_mode": {
    "name": "ipython",
    "version": 3
   },
   "file_extension": ".py",
   "mimetype": "text/x-python",
   "name": "python",
   "nbconvert_exporter": "python",
   "pygments_lexer": "ipython3",
   "version": "3.12.3"
  },
  "papermill": {
   "default_parameters": {},
   "duration": 2.522002,
   "end_time": "2024-05-26T15:40:55.701585",
   "environment_variables": {},
   "exception": null,
   "input_path": "Module01_Hotel_Details_Update_Detection.ipynb",
   "output_path": "Update_Detection_Output.ipynb",
   "parameters": {
    "input_path": "../Master Datasets/raw/hotel_detail_dataset_csv.csv",
    "output_path": "../Master Datasets/Hashed and etc/hashed_timestamped_hotel_details.csv"
   },
   "start_time": "2024-05-26T15:40:53.179583",
   "version": "2.6.0"
  },
  "toc": {
   "base_numbering": 0
  }
 },
 "nbformat": 4,
 "nbformat_minor": 5
}