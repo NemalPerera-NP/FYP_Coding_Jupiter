{
 "cells": [
  {
   "cell_type": "code",
   "execution_count": 2,
   "id": "940879e1-d231-4d06-9445-159be28eabea",
   "metadata": {},
   "outputs": [],
   "source": [
    "# Tokenization for Ontology Population\n",
    "# This notebook focuses on the tokenization of hotel reviews to aid in the identification \n",
    "# of key phrases and terms that are relevant for ontology population."
   ]
  },
  {
   "cell_type": "code",
   "execution_count": 3,
   "id": "72b4067f-f5f2-4221-8ae3-7de38a1a69f5",
   "metadata": {},
   "outputs": [],
   "source": [
    "import nltk\n",
    "from nltk.tokenize import word_tokenize"
   ]
  },
  {
   "cell_type": "code",
   "execution_count": 4,
   "id": "a8c73906-b04f-4f08-8cb0-5be249bd9343",
   "metadata": {},
   "outputs": [],
   "source": [
    "import pandas as pd"
   ]
  },
  {
   "cell_type": "code",
   "execution_count": 5,
   "id": "363e26a5-99cc-4686-b02e-05d0e33a14bb",
   "metadata": {},
   "outputs": [],
   "source": [
    "# Load data\n",
    "data = pd.read_csv('../data/merged_dataset.csv')"
   ]
  },
  {
   "cell_type": "code",
   "execution_count": 6,
   "id": "309b08ff-979f-4a45-91be-4e4d58017dfc",
   "metadata": {},
   "outputs": [
    {
     "name": "stdout",
     "output_type": "stream",
     "text": [
      "        Area              Hotel Name  \\\n",
      "0    unknown  108 palms beach resort   \n",
      "1       ella      3 arch resort ella   \n",
      "2  hikkaduwa         33 lake terrace   \n",
      "3      kandy     360 lake view hotel   \n",
      "4    unknown               3r resort   \n",
      "\n",
      "                                       Hotel Address  \\\n",
      "0  ward no1/25, salli - sampalthivu, 31010 trinco...   \n",
      "1            no 4, maduragama, 90090 ella, sri lanka   \n",
      "2  no: 33, godaudawatta rd, hettigoda, hikkaduwa,...   \n",
      "3  09, keerthi s rajasinghe ave, 20000 kandy, sri...   \n",
      "4  90, stjoseph mawatha,ettukala, 11500 negombo, ...   \n",
      "\n",
      "                                  Popular Facilities  \\\n",
      "0  outdoor swimming pool, airport shuttle, non-sm...   \n",
      "1  airport shuttle, non-smoking rooms, room servi...   \n",
      "2  outdoor swimming pool, airport shuttle, non-sm...   \n",
      "3  free wifi, family rooms, free parking, restaur...   \n",
      "4  outdoor swimming pool, airport shuttle, non-sm...   \n",
      "\n",
      "                                         Description  \\\n",
      "0  youre eligible for a genius discount at 108 pa...   \n",
      "1  youre eligible for a genius discount at 3 arch...   \n",
      "2  youre eligible for a genius discount at 33 lak...   \n",
      "3  ideally located in the centre of kandy, 360 la...   \n",
      "4  youre eligible for a genius discount at 3r res...   \n",
      "\n",
      "                                          Facilities  \\\n",
      "0  bathroom, bathroom, bedroom, bedroom, view, vi...   \n",
      "1  bathroom, bathroom, bedroom, bedroom, view, vi...   \n",
      "2  bathroom, bathroom, bedroom, bedroom, view, vi...   \n",
      "3  outdoors, outdoors, food  drink, food  drink, ...   \n",
      "4  bathroom, bathroom, bedroom, bedroom, view, vi...   \n",
      "\n",
      "                                        Surroundings  \\\n",
      "0  whats nearby, restaurants  cafes, beaches in t...   \n",
      "1  whats nearby, restaurants  cafes, natural beau...   \n",
      "2  whats nearby, restaurants  cafes, top attracti...   \n",
      "3  whats nearby, restaurants  cafes, top attracti...   \n",
      "4  whats nearby, restaurants  cafes, beaches in t...   \n",
      "\n",
      "                                   Bathroom Features  \\\n",
      "0  toilet paper, towels, private bathroom, toilet...   \n",
      "1  toilet paper, towels, bidet, towelssheets extr...   \n",
      "2  toilet paper, towels, bidet, towelssheets extr...   \n",
      "3                                            unknown   \n",
      "4  toilet paper, towels, bath or shower, private ...   \n",
      "\n",
      "                                    Bedroom Features  \\\n",
      "0                          linen, wardrobe or closet   \n",
      "1  linen, wardrobe or closet, extra long beds  2 ...   \n",
      "2  linen, wardrobe or closet, dressing room, extr...   \n",
      "3                                            unknown   \n",
      "4           linen, wardrobe or closet, dressing room   \n",
      "\n",
      "                                            Outdoors  ...  \\\n",
      "0  outdoor fireplace, picnic area, outdoor furnit...  ...   \n",
      "1  outdoor fireplace, picnic area, outdoor furnit...  ...   \n",
      "2  picnic area, outdoor furniture, outdoor dining...  ...   \n",
      "3                         outdoor furniture, terrace  ...   \n",
      "4          bbq facilities, additional charge, garden  ...   \n",
      "\n",
      "                                    Closest airports             Check-in  \\\n",
      "0  china bay airport, 10 km, sigiriya airport, 92 km           from 14:00   \n",
      "1     mattala rajapaksa international airport, 64 km           from 14:00   \n",
      "2  koggala airport, 29 km, ratmalana internationa...  from 13:00 to 00:00   \n",
      "3  sigiriya airport, 74 km, bandaranaike internat...  from 14:00 to 00:00   \n",
      "4  bandaranaike international airport, 7 km, ratm...  from 14:00 to 00:00   \n",
      "\n",
      "             Check-out                            Cancellation/Prepayment  \\\n",
      "0  from 09:00 to 11:00  cancellation and prepayment policies vary acco...   \n",
      "1  from 06:00 to 12:00  cancellation and prepayment policies vary acco...   \n",
      "2  from 00:00 to 11:00  cancellation and prepayment policies vary acco...   \n",
      "3   available 24 hours  cancellation and prepayment policies vary acco...   \n",
      "4  from 11:30 to 12:00  cancellation and prepayment policies vary acco...   \n",
      "\n",
      "                           Children and Bed Policies  \\\n",
      "0  child policies, children of any age are welcom...   \n",
      "1  child policies, children older than 1 year are...   \n",
      "2  child policies, children of any age are welcom...   \n",
      "3  child policies, children of any age are welcom...   \n",
      "4  child policies, children of any age are welcom...   \n",
      "\n",
      "                                     Age Restriction  \\\n",
      "0           there is no age requirement for check-in   \n",
      "1  no age restriction for check-in. only children...   \n",
      "2           there is no age requirement for check-in   \n",
      "3           there is no age requirement for check-in   \n",
      "4           there is no age requirement for check-in   \n",
      "\n",
      "                                        Pets  \\\n",
      "0  free, pets are allowed. no extra charges.   \n",
      "1                      pets are not allowed.   \n",
      "2                      pets are not allowed.   \n",
      "3                      pets are not allowed.   \n",
      "4                      pets are not allowed.   \n",
      "\n",
      "                           Accepted Payment Methods Rating Value  \\\n",
      "0                                           unknown          8.6   \n",
      "1  maestro, mastercard, visa, jcb, american express          8.3   \n",
      "2                                  mastercard, visa          9.8   \n",
      "3                                           unknown      unknown   \n",
      "4                                  mastercard, visa          8.8   \n",
      "\n",
      "                                             Reviews  \n",
      "0  all in all good, but expensive like most of th...  \n",
      "1                                                NaN  \n",
      "2                                                NaN  \n",
      "3                                                NaN  \n",
      "4  really an steal in negombo city nearby colombo...  \n",
      "\n",
      "[5 rows x 39 columns]\n"
     ]
    }
   ],
   "source": [
    "# Display the first few rows of the data\n",
    "print(data.head())"
   ]
  },
  {
   "cell_type": "code",
   "execution_count": 7,
   "id": "38b10b88-346c-4e5d-9641-a28e98a3fcd1",
   "metadata": {
    "scrolled": true
   },
   "outputs": [
    {
     "name": "stdout",
     "output_type": "stream",
     "text": [
      "Original Review: all in all good, but expensive like most of the resorts here. garden area friendly staff good service very cute dogs from the hotel and im not a pet lover - unpleasant smell from the bathroom - wifi soso be aware that you are dependent on the hotel offers because the resort is too far away from trincomallethe road, so there is no uber or other restaurants available. thats why i would recommend a hotel in trincomalle center if your not especially shooting for a resort. also consider a resort in nilaveli, i found the beach and sea even better in there. || one of the best places i have been in my entire tour of asia. both the service, the attention to the public and the kindness, hospitality and warmth of the owner to the great facilities, everything completely clean, perfect and with the best environment, and 50 m from the beach, one of the best in sri lanka, the exquisite breakfast and varied, without a doubt, i will repeat again || magical, quiet place, positive energy, professional service, excellent cuisine, helpful and smiling staff. well maintained resort with a beautiful beach. nothing is a problem here: i recommend || professional staff, i recommend . a beautiful holiday with relaxation || a beautiful quiet place with a minimum of people. everyone at the resort is helpful, relaxed and smiling. they fulfilled our every wish, nothing was a problem for them and they willingly arranged everything for us both excellent meals and trips. thank you for everything and i look forward to seeing you again. with you, the paradise in sri lanka was above standard || a quiet place without the noise and bustle of civilization. very close to nature without losing the comfort we are used to from europe. all clean and tidy. you can feel the positive energy here from the space and from the beautiful people who take care of it and you. i sincerely recommend it. || marvellous place of you need a cozy hidehout from busy towns around. you should definitely go there before even more people discover this jewel || good || absolutely amazing. dear mark is a dream of a host. i really enjoyed the peace, calmness and the general vibe from the property. 100 coming back again and again in the very near future. thank you to everyone at the hotel 3 || it would need better maintenance. nice surroundings || quiet place to relax, polite staff. || beautiful place with relaxing environment and perfect services i highly recommend you to visit this place when you are in trincomalee || calm and beautiful place || beautiful nature, fantastic sea || beautiful, quiet place for families as well for travelers. great staff, excellent food, good vibrations  || natural and full of spirit. || i visited the resort in january and was very satisfied. absolute cleanliness, the rooms are obviously newly renovated and very pleasant. they also cook excellently here. not only is the resort always kept clean and tidy you can see the gardener here every day, but its also in a really charming place where you have the peace and quiet to clear your mind. i also practiced yoga in the garden with trainer filip in the morning and its great you stretch out beautifully and filip is very nice. i can only recommend the only thing i would complain about is that its far from colombo, but its worth it : i was thrilled, so i recommend it || nice and calm\n",
      "Tokens: ['all', 'in', 'all', 'good', ',', 'but', 'expensive', 'like', 'most', 'of', 'the', 'resorts', 'here', '.', 'garden', 'area', 'friendly', 'staff', 'good', 'service', 'very', 'cute', 'dogs', 'from', 'the', 'hotel', 'and', 'im', 'not', 'a', 'pet', 'lover', '-', 'unpleasant', 'smell', 'from', 'the', 'bathroom', '-', 'wifi', 'soso', 'be', 'aware', 'that', 'you', 'are', 'dependent', 'on', 'the', 'hotel', 'offers', 'because', 'the', 'resort', 'is', 'too', 'far', 'away', 'from', 'trincomallethe', 'road', ',', 'so', 'there', 'is', 'no', 'uber', 'or', 'other', 'restaurants', 'available', '.', 'thats', 'why', 'i', 'would', 'recommend', 'a', 'hotel', 'in', 'trincomalle', 'center', 'if', 'your', 'not', 'especially', 'shooting', 'for', 'a', 'resort', '.', 'also', 'consider', 'a', 'resort', 'in', 'nilaveli', ',', 'i', 'found', 'the', 'beach', 'and', 'sea', 'even', 'better', 'in', 'there', '.', '||', 'one', 'of', 'the', 'best', 'places', 'i', 'have', 'been', 'in', 'my', 'entire', 'tour', 'of', 'asia', '.', 'both', 'the', 'service', ',', 'the', 'attention', 'to', 'the', 'public', 'and', 'the', 'kindness', ',', 'hospitality', 'and', 'warmth', 'of', 'the', 'owner', 'to', 'the', 'great', 'facilities', ',', 'everything', 'completely', 'clean', ',', 'perfect', 'and', 'with', 'the', 'best', 'environment', ',', 'and', '50', 'm', 'from', 'the', 'beach', ',', 'one', 'of', 'the', 'best', 'in', 'sri', 'lanka', ',', 'the', 'exquisite', 'breakfast', 'and', 'varied', ',', 'without', 'a', 'doubt', ',', 'i', 'will', 'repeat', 'again', '||', 'magical', ',', 'quiet', 'place', ',', 'positive', 'energy', ',', 'professional', 'service', ',', 'excellent', 'cuisine', ',', 'helpful', 'and', 'smiling', 'staff', '.', 'well', 'maintained', 'resort', 'with', 'a', 'beautiful', 'beach', '.', 'nothing', 'is', 'a', 'problem', 'here', ':', 'i', 'recommend', '||', 'professional', 'staff', ',', 'i', 'recommend', '.', 'a', 'beautiful', 'holiday', 'with', 'relaxation', '||', 'a', 'beautiful', 'quiet', 'place', 'with', 'a', 'minimum', 'of', 'people', '.', 'everyone', 'at', 'the', 'resort', 'is', 'helpful', ',', 'relaxed', 'and', 'smiling', '.', 'they', 'fulfilled', 'our', 'every', 'wish', ',', 'nothing', 'was', 'a', 'problem', 'for', 'them', 'and', 'they', 'willingly', 'arranged', 'everything', 'for', 'us', 'both', 'excellent', 'meals', 'and', 'trips', '.', 'thank', 'you', 'for', 'everything', 'and', 'i', 'look', 'forward', 'to', 'seeing', 'you', 'again', '.', 'with', 'you', ',', 'the', 'paradise', 'in', 'sri', 'lanka', 'was', 'above', 'standard', '||', 'a', 'quiet', 'place', 'without', 'the', 'noise', 'and', 'bustle', 'of', 'civilization', '.', 'very', 'close', 'to', 'nature', 'without', 'losing', 'the', 'comfort', 'we', 'are', 'used', 'to', 'from', 'europe', '.', 'all', 'clean', 'and', 'tidy', '.', 'you', 'can', 'feel', 'the', 'positive', 'energy', 'here', 'from', 'the', 'space', 'and', 'from', 'the', 'beautiful', 'people', 'who', 'take', 'care', 'of', 'it', 'and', 'you', '.', 'i', 'sincerely', 'recommend', 'it', '.', '||', 'marvellous', 'place', 'of', 'you', 'need', 'a', 'cozy', 'hidehout', 'from', 'busy', 'towns', 'around', '.', 'you', 'should', 'definitely', 'go', 'there', 'before', 'even', 'more', 'people', 'discover', 'this', 'jewel', '||', 'good', '||', 'absolutely', 'amazing', '.', 'dear', 'mark', 'is', 'a', 'dream', 'of', 'a', 'host', '.', 'i', 'really', 'enjoyed', 'the', 'peace', ',', 'calmness', 'and', 'the', 'general', 'vibe', 'from', 'the', 'property', '.', '100', 'coming', 'back', 'again', 'and', 'again', 'in', 'the', 'very', 'near', 'future', '.', 'thank', 'you', 'to', 'everyone', 'at', 'the', 'hotel', '3', '||', 'it', 'would', 'need', 'better', 'maintenance', '.', 'nice', 'surroundings', '||', 'quiet', 'place', 'to', 'relax', ',', 'polite', 'staff', '.', '||', 'beautiful', 'place', 'with', 'relaxing', 'environment', 'and', 'perfect', 'services', 'i', 'highly', 'recommend', 'you', 'to', 'visit', 'this', 'place', 'when', 'you', 'are', 'in', 'trincomalee', '||', 'calm', 'and', 'beautiful', 'place', '||', 'beautiful', 'nature', ',', 'fantastic', 'sea', '||', 'beautiful', ',', 'quiet', 'place', 'for', 'families', 'as', 'well', 'for', 'travelers', '.', 'great', 'staff', ',', 'excellent', 'food', ',', 'good', 'vibrations', '||', 'natural', 'and', 'full', 'of', 'spirit', '.', '||', 'i', 'visited', 'the', 'resort', 'in', 'january', 'and', 'was', 'very', 'satisfied', '.', 'absolute', 'cleanliness', ',', 'the', 'rooms', 'are', 'obviously', 'newly', 'renovated', 'and', 'very', 'pleasant', '.', 'they', 'also', 'cook', 'excellently', 'here', '.', 'not', 'only', 'is', 'the', 'resort', 'always', 'kept', 'clean', 'and', 'tidy', 'you', 'can', 'see', 'the', 'gardener', 'here', 'every', 'day', ',', 'but', 'its', 'also', 'in', 'a', 'really', 'charming', 'place', 'where', 'you', 'have', 'the', 'peace', 'and', 'quiet', 'to', 'clear', 'your', 'mind', '.', 'i', 'also', 'practiced', 'yoga', 'in', 'the', 'garden', 'with', 'trainer', 'filip', 'in', 'the', 'morning', 'and', 'its', 'great', 'you', 'stretch', 'out', 'beautifully', 'and', 'filip', 'is', 'very', 'nice', '.', 'i', 'can', 'only', 'recommend', 'the', 'only', 'thing', 'i', 'would', 'complain', 'about', 'is', 'that', 'its', 'far', 'from', 'colombo', ',', 'but', 'its', 'worth', 'it', ':', 'i', 'was', 'thrilled', ',', 'so', 'i', 'recommend', 'it', '||', 'nice', 'and', 'calm']\n"
     ]
    }
   ],
   "source": [
    "# Tokenizing a single review\n",
    "example_review = data['Reviews'].iloc[0]\n",
    "tokens = word_tokenize(example_review)\n",
    "\n",
    "print(\"Original Review:\", example_review)\n",
    "print(\"Tokens:\", tokens)\n"
   ]
  },
  {
   "cell_type": "code",
   "execution_count": 8,
   "id": "c6fdae56-6ebf-4293-b102-05e06532085a",
   "metadata": {},
   "outputs": [],
   "source": [
    "# Tokenizing all reviews\n",
    "# data['tokens'] = data['Reviews'].apply(word_tokenize)\n"
   ]
  },
  {
   "cell_type": "code",
   "execution_count": 9,
   "id": "5f79340e-9552-453a-bcb4-c00a35c463e1",
   "metadata": {},
   "outputs": [],
   "source": [
    "# Convert the 'Reviews' column to string and fill NaNs\n",
    "data['Reviews'] = data['Reviews'].astype(str).fillna('')\n",
    "\n",
    "# Now apply the tokenization\n",
    "data['tokens'] = data['Reviews'].apply(word_tokenize)\n"
   ]
  },
  {
   "cell_type": "code",
   "execution_count": 10,
   "id": "00d2b585-7f16-472d-893e-16bf6b189d7a",
   "metadata": {},
   "outputs": [
    {
     "name": "stdout",
     "output_type": "stream",
     "text": [
      "[('.', 193627), ('the', 152606), ('and', 104373), (',', 86786), ('||', 85284), ('a', 63720), ('to', 59295), ('is', 49498), ('was', 39834), ('in', 36274), ('hotel', 35940), ('very', 35467), ('of', 35460), ('for', 32640), ('good', 30749), ('with', 26615), ('place', 26264), ('we', 25974), ('staff', 23660), ('food', 22339), ('i', 22266), ('it', 21207), ('are', 19823), ('nice', 19537), ('great', 18747), ('service', 18563), ('you', 18080), ('not', 15738), ('this', 15735), ('rooms', 15619), ('at', 15340), ('room', 15102), ('but', 14017), ('stay', 13963), ('were', 13557), ('friendly', 13156), ('they', 12955), ('there', 11768), ('on', 11389), ('from', 11376), ('had', 11266), ('clean', 11213), ('that', 10814), ('have', 10763), ('view', 10238), ('all', 9979), ('our', 9853), ('pool', 9610), ('best', 9256), ('as', 8885), ('beautiful', 8819), ('excellent', 8357), ('one', 8262), ('so', 8142), ('location', 7881), ('us', 7478), ('amazing', 7476), ('my', 7410), ('also', 7338), ('breakfast', 7333), ('be', 7155), ('experience', 7142), ('really', 7035), ('can', 6739), ('an', 6502), ('well', 6309), ('its', 6224), ('recommend', 6071), ('by', 5626), ('time', 5486), ('no', 5447), ('here', 5382), ('restaurant', 5373), ('beach', 5364), ('if', 5276), ('helpful', 5232), ('sri', 5060), ('delicious', 4883), ('only', 4734), ('which', 4699), ('your', 4644), ('comfortable', 4614), ('buffet', 4595), ('will', 4567), ('would', 4548), ('highly', 4316), ('their', 4304), ('has', 4279), ('like', 4207), ('visit', 4066), ('wonderful', 3910), ('everything', 3892), ('when', 3820), ('out', 3794), ('or', 3675), ('lanka', 3653), ('-', 3633), ('just', 3625), ('even', 3617), ('stayed', 3543)]\n"
     ]
    }
   ],
   "source": [
    "# Example: Counting word frequency\n",
    "from collections import Counter\n",
    "\n",
    "all_tokens = [token for sublist in data['tokens'] for token in sublist]  # Flatten list of tokens\n",
    "token_counts = Counter(all_tokens)\n",
    "\n",
    "# Display the most common words\n",
    "print(token_counts.most_common(100))\n"
   ]
  },
  {
   "cell_type": "code",
   "execution_count": 11,
   "id": "873aa11e-6bfb-4e8e-aeb9-b26f269eb1c1",
   "metadata": {},
   "outputs": [],
   "source": [
    "if 'all_tokens' in locals():\n",
    "    del all_tokens\n",
    "if 'data' in locals():\n",
    "    del data"
   ]
  },
  {
   "cell_type": "code",
   "execution_count": null,
   "id": "9c08b7d2-d765-4b47-8ad9-4e3d2938491c",
   "metadata": {},
   "outputs": [],
   "source": []
  }
 ],
 "metadata": {
  "kernelspec": {
   "display_name": "Python 3 (ipykernel)",
   "language": "python",
   "name": "python3"
  },
  "language_info": {
   "codemirror_mode": {
    "name": "ipython",
    "version": 3
   },
   "file_extension": ".py",
   "mimetype": "text/x-python",
   "name": "python",
   "nbconvert_exporter": "python",
   "pygments_lexer": "ipython3",
   "version": "3.12.3"
  }
 },
 "nbformat": 4,
 "nbformat_minor": 5
}
