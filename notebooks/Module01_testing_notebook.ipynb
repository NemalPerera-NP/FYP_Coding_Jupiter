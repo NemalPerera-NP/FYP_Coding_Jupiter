{
 "cells": [
  {
   "cell_type": "code",
   "execution_count": 2,
   "id": "155bb5a5-0115-4493-9069-0f8cb7bd21d4",
   "metadata": {},
   "outputs": [
    {
     "name": "stdout",
     "output_type": "stream",
     "text": [
      "Loaded functions: ['BeautifulSoup', '__builtins__', '__cached__', '__doc__', '__file__', '__loader__', '__name__', '__package__', '__spec__', 'aggregate_reviews', 'apply_emoji_removal', 'apply_hotel_id_creation', 'apply_normalization', 'apply_text_cleaning', 'apply_text_cleaning_multiple_columns', 'apply_text_processing', 'apply_url_email_removal', 'clean_text', 'correct_area_names', 'create_hotel_id', 'drop_columns', 'handle_null_values', 'load_data', 'normalize_characters', 'normalize_text_to_lowercase', 'np', 'pd', 'preprocess', 'process_text', 're', 'remove_duplicates', 'remove_emails', 'remove_emojis', 'remove_html_tags', 'remove_urls', 'replace_non_english_reviews', 'unicodedata']\n"
     ]
    },
    {
     "name": "stderr",
     "output_type": "stream",
     "text": [
      "C:\\Users\\user\\Desktop\\L4 - Research\\Coding\\Develpment Environment\\notebooks\\../scripts\\Module01_Review_preprocessing_script.py:50: MarkupResemblesLocatorWarning: The input looks more like a filename than markup. You may want to open this file and pass the filehandle into Beautiful Soup.\n",
      "  soup = BeautifulSoup(text, \"html.parser\")\n"
     ]
    }
   ],
   "source": [
    "# notebooks/Text_Cleaning.ipynb\n",
    "#aggregate_reviews, apply_hotel_id_creation,\n",
    "import sys\n",
    "sys.path.append('../scripts')\n",
    "from Module01_Review_preprocessing_script import (\n",
    "    load_data, drop_columns, handle_null_values, remove_duplicates,\n",
    "    correct_area_names, apply_text_cleaning, apply_url_email_removal,\n",
    "    apply_emoji_removal, replace_non_english_reviews, apply_text_cleaning_multiple_columns,\n",
    "    normalize_text_to_lowercase, apply_normalization, apply_text_processing,\n",
    "     aggregate_reviews, apply_hotel_id_creation,preprocess\n",
    ")\n",
    "\n",
    "# Define paths\n",
    "file_path = '../Master Datasets/Hashed and etc/new_reviews_to_process.csv'\n",
    "save_path = '../Master Datasets/Reviews_data_processed.csv'\n",
    "\n",
    "# Preprocess data\n",
    "preprocess(file_path, save_path)\n"
   ]
  },
  {
   "cell_type": "code",
   "execution_count": null,
   "id": "5d93cf21-a57e-4f5c-b0d5-1057ad99f991",
   "metadata": {},
   "outputs": [],
   "source": []
  },
  {
   "cell_type": "code",
   "execution_count": null,
   "id": "4d1b8087-12a3-4c40-b48c-f23529ba6e7c",
   "metadata": {},
   "outputs": [],
   "source": []
  }
 ],
 "metadata": {
  "kernelspec": {
   "display_name": "Python 3 (ipykernel)",
   "language": "python",
   "name": "python3"
  },
  "language_info": {
   "codemirror_mode": {
    "name": "ipython",
    "version": 3
   },
   "file_extension": ".py",
   "mimetype": "text/x-python",
   "name": "python",
   "nbconvert_exporter": "python",
   "pygments_lexer": "ipython3",
   "version": "3.12.3"
  }
 },
 "nbformat": 4,
 "nbformat_minor": 5
}
