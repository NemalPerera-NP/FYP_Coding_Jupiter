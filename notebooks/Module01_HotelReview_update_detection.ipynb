{
 "cells": [
  {
   "cell_type": "code",
   "execution_count": 1,
   "id": "6e51d100-51a1-4679-8866-9d84520d52bc",
   "metadata": {},
   "outputs": [],
   "source": [
    "import pandas as pd\n",
    "from datetime import datetime"
   ]
  },
  {
   "cell_type": "code",
   "execution_count": 2,
   "id": "a9b04411-5673-43ba-99af-325f12166dc9",
   "metadata": {},
   "outputs": [],
   "source": [
    "def add_or_update_timestamps(filepath, hwm_file):\n",
    "    try:\n",
    "        # Load the existing dataset\n",
    "        df = pd.read_csv(filepath)\n",
    "        # Check if the 'processed_timestamp' column exists\n",
    "        if 'processed_timestamp' not in df.columns:\n",
    "            df['processed_timestamp'] = pd.NaT  # Initialize column with Not-A-Time for all existing rows\n",
    "\n",
    "        # Set new timestamp for rows that are new or missing a timestamp\n",
    "        df.loc[df['processed_timestamp'].isna(), 'processed_timestamp'] = pd.to_datetime(datetime.now())\n",
    "\n",
    "        # Save the updated dataset\n",
    "        df.to_csv(filepath, index=False)\n",
    "\n",
    "        # Update the High-Water Mark with the current time\n",
    "        update_hwm(hwm_file, pd.to_datetime(datetime.now()))\n",
    "    except Exception as e:\n",
    "        print(f\"Error processing file: {e}\")"
   ]
  },
  {
   "cell_type": "code",
   "execution_count": 3,
   "id": "89654725-76a5-48a7-866b-cbd75c8a1507",
   "metadata": {},
   "outputs": [],
   "source": [
    "def update_hwm(hwm_file, new_hwm):\n",
    "    with open(hwm_file, 'w') as file:\n",
    "        file.write(str(new_hwm))\n",
    "    print(f\"High-Water Mark updated to: {new_hwm}\")"
   ]
  },
  {
   "cell_type": "code",
   "execution_count": 4,
   "id": "df846776-af5a-4eb8-a293-5f2e25eb87c2",
   "metadata": {},
   "outputs": [
    {
     "name": "stdout",
     "output_type": "stream",
     "text": [
      "High-Water Mark updated to: 2024-05-31 10:31:07.017066\n"
     ]
    }
   ],
   "source": [
    "# Usage\n",
    "input_path = '../Master Datasets/raw/hotel_review_csv.csv'  # Path to the raw master dataset\n",
    "hwm_file = '../Master Datasets/Hashed and etc/high_water_mark.txt'  # Path to store the High-Water Mark\n",
    "add_or_update_timestamps(input_path, hwm_file)"
   ]
  },
  {
   "cell_type": "code",
   "execution_count": null,
   "id": "9410e673-d6eb-487e-8c65-24bc5d9f2d98",
   "metadata": {},
   "outputs": [],
   "source": []
  }
 ],
 "metadata": {
  "kernelspec": {
   "display_name": "Python 3 (ipykernel)",
   "language": "python",
   "name": "python3"
  },
  "language_info": {
   "codemirror_mode": {
    "name": "ipython",
    "version": 3
   },
   "file_extension": ".py",
   "mimetype": "text/x-python",
   "name": "python",
   "nbconvert_exporter": "python",
   "pygments_lexer": "ipython3",
   "version": "3.12.3"
  }
 },
 "nbformat": 4,
 "nbformat_minor": 5
}
